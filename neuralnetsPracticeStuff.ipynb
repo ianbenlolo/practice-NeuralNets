{
 "cells": [
  {
   "cell_type": "code",
   "execution_count": 1,
   "metadata": {
    "collapsed": false
   },
   "outputs": [
    {
     "name": "stderr",
     "output_type": "stream",
     "text": [
      "/Users/ianbenlolo/anaconda/lib/python2.7/site-packages/h5py/__init__.py:36: FutureWarning: Conversion of the second argument of issubdtype from `float` to `np.floating` is deprecated. In future, it will be treated as `np.float64 == np.dtype(float).type`.\n",
      "  from ._conv import register_converters as _register_converters\n",
      "Using TensorFlow backend.\n"
     ]
    }
   ],
   "source": [
    "import numpy as np\n",
    "import tensorflow as tf\n",
    "\n",
    "import matplotlib.pyplot as plt\n",
    "%matplotlib inline \n",
    "\n",
    "from keras import models\n",
    "from keras import layers\n",
    "from keras import optimizers"
   ]
  },
  {
   "cell_type": "code",
   "execution_count": null,
   "metadata": {
    "collapsed": true
   },
   "outputs": [],
   "source": [
    "#picture dataset\n",
    "from keras.datasets import mnist"
   ]
  },
  {
   "cell_type": "code",
   "execution_count": null,
   "metadata": {
    "collapsed": true
   },
   "outputs": [],
   "source": [
    "#imdb data set\n",
    "from keras.datasets import imdb"
   ]
  },
  {
   "cell_type": "code",
   "execution_count": 2,
   "metadata": {
    "collapsed": true
   },
   "outputs": [],
   "source": [
    "#reuters data set(text)\n",
    "from keras.datasets import reuters"
   ]
  },
  {
   "cell_type": "code",
   "execution_count": 2,
   "metadata": {
    "collapsed": false
   },
   "outputs": [],
   "source": [
    "def naive_add_matrix_and_vector(x, y):\n",
    "    assert len(x.shape) == 2\n",
    "    assert len(y.shape) == 1\n",
    "    assert x.shape[1] == y.shape[0]\n",
    "    x = x.copy()\n",
    "    for i in range(x.shape[0]):\n",
    "        for j in range(x.shape[1]):\n",
    "            x[i, j] += y[j]\n",
    "    return x"
   ]
  },
  {
   "cell_type": "code",
   "execution_count": 3,
   "metadata": {
    "collapsed": false
   },
   "outputs": [],
   "source": [
    "x = np.random.random((10,1))\n",
    "y = np.random.random((32, 10))"
   ]
  },
  {
   "cell_type": "code",
   "execution_count": 4,
   "metadata": {
    "collapsed": false
   },
   "outputs": [
    {
     "name": "stdout",
     "output_type": "stream",
     "text": [
      "[[ 0.  1.]\n",
      " [ 2.  3.]\n",
      " [ 4.  5.]]\n",
      "(3, 2)\n"
     ]
    },
    {
     "data": {
      "text/plain": [
       "array([[ 0.,  1.],\n",
       "       [ 2.,  3.],\n",
       "       [ 4.,  5.]])"
      ]
     },
     "execution_count": 4,
     "metadata": {},
     "output_type": "execute_result"
    }
   ],
   "source": [
    "#arrays:\n",
    "x = np.array([[0., 1.],\n",
    "                 [2., 3.],\n",
    "                 [4., 5.]])\n",
    "print(x)\n",
    "print(x.shape)\n",
    "x\n",
    "\n",
    "#reshaping arrays for like this. the dimensions have to match. \n",
    "x.reshape(1,6)\n",
    "x"
   ]
  },
  {
   "cell_type": "code",
   "execution_count": 5,
   "metadata": {
    "collapsed": false
   },
   "outputs": [
    {
     "name": "stderr",
     "output_type": "stream",
     "text": [
      "Using TensorFlow backend.\n"
     ]
    },
    {
     "name": "stdout",
     "output_type": "stream",
     "text": [
      "3\n",
      "(60000, 28, 28)\n",
      "uint8\n"
     ]
    }
   ],
   "source": [
    "#from keras.datasets import mnist\n",
    "\n",
    "#this is just the MNIST data set\n",
    "\n",
    "(train_images, train_labels), (test_images, test_labels) = mnist.load_data()\n",
    "print(train_images.ndim)\n",
    "print(train_images.shape)\n",
    "print(train_images.dtype)"
   ]
  },
  {
   "cell_type": "code",
   "execution_count": 6,
   "metadata": {
    "collapsed": false
   },
   "outputs": [],
   "source": [
    "#import matplotlib.pyplot as plt\n",
    "#%matplotlib inline \n",
    "\n",
    "#digit = train_images[100]\n",
    "#plt.imshow(digit, cmap=plt.cm.binary)\n",
    "#plt.show()"
   ]
  },
  {
   "cell_type": "code",
   "execution_count": 7,
   "metadata": {
    "collapsed": false
   },
   "outputs": [],
   "source": [
    "#from keras.datasets import imdb"
   ]
  },
  {
   "cell_type": "code",
   "execution_count": 8,
   "metadata": {
    "collapsed": false
   },
   "outputs": [],
   "source": [
    "(train_data, train_labels), (test_data, test_labels) = imdb.load_data(num_words=10000)"
   ]
  },
  {
   "cell_type": "code",
   "execution_count": 4,
   "metadata": {
    "collapsed": true
   },
   "outputs": [],
   "source": [
    "def vectorize_sequences(sequences, dimension=10000):\n",
    "    results = np.zeros((len(sequences), dimension))\n",
    "    for i, sequence in enumerate(sequences):\n",
    "        results[i, sequence] = 1.\n",
    "    return results"
   ]
  },
  {
   "cell_type": "code",
   "execution_count": 9,
   "metadata": {
    "collapsed": false
   },
   "outputs": [],
   "source": [
    "#vectorizing the data\n",
    "x_train = vectorize_sequences(train_data)\n",
    "x_test = vectorize_sequences(test_data)\n",
    "\n",
    "#makign them arrays of float32 precision\n",
    "y_train = np.asarray(train_labels).astype('float32') \n",
    "y_test = np.asarray(test_labels).astype('float32')"
   ]
  },
  {
   "cell_type": "code",
   "execution_count": 10,
   "metadata": {
    "collapsed": false
   },
   "outputs": [],
   "source": [
    "#from keras import models\n",
    "#from keras import layers\n",
    "\n",
    "#configure the model for training\n",
    "model = models.Sequential()\n",
    "#add layers--\n",
    "model.add(layers.Dense(16, activation='relu', input_shape=(10000,)))\n",
    "model.add(layers.Dense(16, activation='relu'))\n",
    "model.add(layers.Dense(1, activation='sigmoid'))\n",
    "\n",
    "#optimizer,loss function and metrics are strings because they're part of Keras\n",
    "model.compile(optimizer='rmsprop',\n",
    "                      loss='binary_crossentropy',\n",
    "                      metrics=['accuracy'])\n",
    "\n",
    "#     to use custom losses and metrics:\n",
    "#  from keras import losses\n",
    "#  from keras import metrics\n",
    "\n",
    "\n",
    "#  model.compile(optimizer=optimizers.RMSprop(lr=0.001),   \n",
    "#            loss=losses.binary_crossentropy,\n",
    "#            metrics=[metrics.binary_accuracy])\n"
   ]
  },
  {
   "cell_type": "code",
   "execution_count": 11,
   "metadata": {
    "collapsed": false,
    "scrolled": false
   },
   "outputs": [
    {
     "name": "stdout",
     "output_type": "stream",
     "text": [
      "Train on 15000 samples, validate on 10000 samples\n",
      "Epoch 1/20\n",
      "15000/15000 [==============================] - 6s 388us/step - loss: 0.5084 - acc: 0.7813 - val_loss: 0.3797 - val_acc: 0.8684\n",
      "Epoch 2/20\n",
      "15000/15000 [==============================] - 5s 338us/step - loss: 0.3004 - acc: 0.9047 - val_loss: 0.3004 - val_acc: 0.8897\n",
      "Epoch 3/20\n",
      "15000/15000 [==============================] - 4s 247us/step - loss: 0.2179 - acc: 0.9285 - val_loss: 0.3085 - val_acc: 0.8711\n",
      "Epoch 4/20\n",
      "15000/15000 [==============================] - 4s 247us/step - loss: 0.1750 - acc: 0.9437 - val_loss: 0.2840 - val_acc: 0.8832\n",
      "Epoch 5/20\n",
      "15000/15000 [==============================] - 4s 235us/step - loss: 0.1427 - acc: 0.9543 - val_loss: 0.2841 - val_acc: 0.8872\n",
      "Epoch 6/20\n",
      "15000/15000 [==============================] - 3s 211us/step - loss: 0.1150 - acc: 0.9650 - val_loss: 0.3166 - val_acc: 0.8772\n",
      "Epoch 7/20\n",
      "15000/15000 [==============================] - 3s 219us/step - loss: 0.0980 - acc: 0.9705 - val_loss: 0.3127 - val_acc: 0.8846\n",
      "Epoch 8/20\n",
      "15000/15000 [==============================] - 3s 218us/step - loss: 0.0807 - acc: 0.9763 - val_loss: 0.3859 - val_acc: 0.8649\n",
      "Epoch 9/20\n",
      "15000/15000 [==============================] - 4s 235us/step - loss: 0.0661 - acc: 0.9821 - val_loss: 0.3635 - val_acc: 0.8782\n",
      "Epoch 10/20\n",
      "15000/15000 [==============================] - 4s 250us/step - loss: 0.0560 - acc: 0.9853 - val_loss: 0.3843 - val_acc: 0.8791\n",
      "Epoch 11/20\n",
      "15000/15000 [==============================] - 4s 249us/step - loss: 0.0441 - acc: 0.9891 - val_loss: 0.4154 - val_acc: 0.8779\n",
      "Epoch 12/20\n",
      "15000/15000 [==============================] - 3s 228us/step - loss: 0.0382 - acc: 0.9917 - val_loss: 0.4520 - val_acc: 0.8690\n",
      "Epoch 13/20\n",
      "15000/15000 [==============================] - 3s 232us/step - loss: 0.0300 - acc: 0.9929 - val_loss: 0.4698 - val_acc: 0.8731\n",
      "Epoch 14/20\n",
      "15000/15000 [==============================] - 3s 191us/step - loss: 0.0247 - acc: 0.9947 - val_loss: 0.5022 - val_acc: 0.8722\n",
      "Epoch 15/20\n",
      "15000/15000 [==============================] - 3s 195us/step - loss: 0.0172 - acc: 0.9982 - val_loss: 0.5463 - val_acc: 0.8694\n",
      "Epoch 16/20\n",
      "15000/15000 [==============================] - 3s 216us/step - loss: 0.0157 - acc: 0.9977 - val_loss: 0.5789 - val_acc: 0.8686\n",
      "Epoch 17/20\n",
      "15000/15000 [==============================] - 5s 307us/step - loss: 0.0100 - acc: 0.9993 - val_loss: 0.6412 - val_acc: 0.8612\n",
      "Epoch 18/20\n",
      "15000/15000 [==============================] - 8s 543us/step - loss: 0.0122 - acc: 0.9972 - val_loss: 0.6475 - val_acc: 0.8690\n",
      "Epoch 19/20\n",
      "15000/15000 [==============================] - 7s 447us/step - loss: 0.0052 - acc: 0.9997 - val_loss: 0.7227 - val_acc: 0.8575\n",
      "Epoch 20/20\n",
      "15000/15000 [==============================] - 7s 455us/step - loss: 0.0096 - acc: 0.9981 - val_loss: 0.7053 - val_acc: 0.8663\n"
     ]
    }
   ],
   "source": [
    "#from keras import optimizers\n",
    "\n",
    "#configurating the optimizer\n",
    "model.compile(optimizer=optimizers.RMSprop(lr=0.001),\n",
    "              loss='binary_crossentropy',\n",
    "              metrics=['accuracy'])\n",
    "\n",
    "# validation set\n",
    "x_val = x_train[:10000]\n",
    "partial_x_train = x_train[10000:]\n",
    "\n",
    "y_val = y_train[:10000]\n",
    "partial_y_train = y_train[10000:]\n",
    "\n",
    "model.compile(optimizer='rmsprop',\n",
    "              loss='binary_crossentropy',\n",
    "              metrics=['acc'])\n",
    "history = model.fit(partial_x_train,\n",
    "                    partial_y_train,\n",
    "                    epochs=20,\n",
    "                    batch_size=512,\n",
    "                    validation_data=(x_val, y_val))\n"
   ]
  },
  {
   "cell_type": "code",
   "execution_count": 25,
   "metadata": {
    "collapsed": false,
    "scrolled": false
   },
   "outputs": [
    {
     "data": {
      "text/plain": [
       "[0.7813333335240682,\n",
       " 0.90473333336512252,\n",
       " 0.92846666660308841,\n",
       " 0.94373333355585731,\n",
       " 0.95426666638056434,\n",
       " 0.96500000006357833,\n",
       " 0.97046666682561233,\n",
       " 0.97633333311080928,\n",
       " 0.98213333330154418,\n",
       " 0.98533333330154416,\n",
       " 0.98906666657129927,\n",
       " 0.9917333334922791,\n",
       " 0.99286666666666668,\n",
       " 0.9946666666666667,\n",
       " 0.99819999999999998,\n",
       " 0.99766666657129921,\n",
       " 0.99926666666666664,\n",
       " 0.99719999999999998,\n",
       " 0.99973333358764649,\n",
       " 0.99806666666666666]"
      ]
     },
     "execution_count": 25,
     "metadata": {},
     "output_type": "execute_result"
    }
   ],
   "source": [
    "\n",
    "history_dict = history.history\n",
    "history_dict.keys()\n",
    "\n",
    "\n",
    "#iterate through all the keys\n",
    "#for key, value in history_dict.items():\n",
    "#    print key, value\n",
    "\n",
    "#plot the data\n"
   ]
  },
  {
   "cell_type": "code",
   "execution_count": null,
   "metadata": {
    "collapsed": true
   },
   "outputs": [],
   "source": [
    "history_dict = history.history\n",
    "loss_values = history_dict['loss']\n",
    "val_loss_values = history_dict['val_loss']\n",
    "\n",
    "epochs = range(1, len(loss_values) + 1)\n",
    "\n",
    "plt.plot(epochs, loss_values, 'bo', label='Training loss')\n",
    "plt.plot(epochs, val_loss_values, 'b', label='Validation loss')\n",
    "plt.title('Training and validation loss')\n",
    "plt.xlabel('Epochs')\n",
    "plt.ylabel('Loss')\n",
    "plt.legend()\n",
    "\n",
    "plt.show()\n"
   ]
  },
  {
   "cell_type": "code",
   "execution_count": 27,
   "metadata": {
    "collapsed": false
   },
   "outputs": [
    {
     "data": {
      "image/png": "[encoded data removed]",
      "text/plain": [
       "<Figure size 600x400 with 1 Axes>"
      ]
     },
     "metadata": {},
     "output_type": "display_data"
    }
   ],
   "source": [
    "acc_values = history_dict['acc'] \n",
    "val_acc_values = history_dict['val_acc']\n",
    "\n",
    "plt.plot(epochs, acc_values, 'bo', label='Training acc')\n",
    "plt.plot(epochs, val_acc_values, 'b', label='Validation acc')\n",
    "plt.title('Training and validation accuracy')\n",
    "plt.xlabel('Epochs')\n",
    "plt.ylabel('Loss')\n",
    "plt.legend()\n",
    "plt.show()\n",
    "\n",
    "#we can see training accuracy increases and loss decreases\n",
    "# this is an example of overfitting\n",
    "#       we could have stopped at 4 epochs\n"
   ]
  },
  {
   "cell_type": "code",
   "execution_count": 28,
   "metadata": {
    "collapsed": false
   },
   "outputs": [
    {
     "data": {
      "text/plain": [
       "array([[ 0.00665166],\n",
       "       [ 0.99999988],\n",
       "       [ 0.59762663],\n",
       "       ..., \n",
       "       [ 0.0020646 ],\n",
       "       [ 0.01062515],\n",
       "       [ 0.72914135]], dtype=float32)"
      ]
     },
     "execution_count": 28,
     "metadata": {},
     "output_type": "execute_result"
    }
   ],
   "source": [
    "# could now use our network to predict likelyhood of positive reviews with:\n",
    "model.predict(x_test)\n",
    "# the network is confident for some values: 0.99, <0.1 but for some it is unsure: 0.5, 0.7"
   ]
  },
  {
   "cell_type": "code",
   "execution_count": 33,
   "metadata": {
    "collapsed": false
   },
   "outputs": [
    {
     "name": "stdout",
     "output_type": "stream",
     "text": [
      "Train on 15000 samples, validate on 10000 samples\n",
      "Epoch 1/20\n",
      "15000/15000 [==============================] - 7s 460us/step - loss: 0.5389 - acc: 0.7775 - val_loss: 0.3889 - val_acc: 0.8626\n",
      "Epoch 2/20\n",
      "15000/15000 [==============================] - 6s 392us/step - loss: 0.3021 - acc: 0.8995 - val_loss: 0.2946 - val_acc: 0.8873\n",
      "Epoch 3/20\n",
      "15000/15000 [==============================] - 5s 341us/step - loss: 0.2057 - acc: 0.9297 - val_loss: 0.2820 - val_acc: 0.8877\n",
      "Epoch 4/20\n",
      "15000/15000 [==============================] - 4s 247us/step - loss: 0.1486 - acc: 0.9487 - val_loss: 0.3277 - val_acc: 0.8756\n",
      "Epoch 5/20\n",
      "15000/15000 [==============================] - 4s 274us/step - loss: 0.1291 - acc: 0.9555 - val_loss: 0.3148 - val_acc: 0.8824\n",
      "Epoch 6/20\n",
      "15000/15000 [==============================] - 4s 252us/step - loss: 0.0954 - acc: 0.9701 - val_loss: 0.3709 - val_acc: 0.8756\n",
      "Epoch 7/20\n",
      "15000/15000 [==============================] - 4s 265us/step - loss: 0.0743 - acc: 0.9777 - val_loss: 0.4161 - val_acc: 0.8686\n",
      "Epoch 8/20\n",
      "15000/15000 [==============================] - 4s 267us/step - loss: 0.0604 - acc: 0.9824 - val_loss: 0.3917 - val_acc: 0.8783\n",
      "Epoch 9/20\n",
      "15000/15000 [==============================] - 4s 266us/step - loss: 0.0489 - acc: 0.9863 - val_loss: 0.4273 - val_acc: 0.8755\n",
      "Epoch 10/20\n",
      "15000/15000 [==============================] - 5s 309us/step - loss: 0.0309 - acc: 0.9922 - val_loss: 0.4927 - val_acc: 0.8705\n",
      "Epoch 11/20\n",
      "15000/15000 [==============================] - 4s 261us/step - loss: 0.0388 - acc: 0.9894 - val_loss: 0.5006 - val_acc: 0.8744\n",
      "Epoch 12/20\n",
      "15000/15000 [==============================] - 4s 251us/step - loss: 0.0113 - acc: 0.9987 - val_loss: 0.5509 - val_acc: 0.8710\n",
      "Epoch 13/20\n",
      "15000/15000 [==============================] - 3s 220us/step - loss: 0.0292 - acc: 0.9920 - val_loss: 0.5944 - val_acc: 0.8730\n",
      "Epoch 14/20\n",
      "15000/15000 [==============================] - 3s 223us/step - loss: 0.0046 - acc: 0.9998 - val_loss: 0.6227 - val_acc: 0.8709\n",
      "Epoch 15/20\n",
      "15000/15000 [==============================] - 4s 263us/step - loss: 0.0311 - acc: 0.9923 - val_loss: 0.6685 - val_acc: 0.8704\n",
      "Epoch 16/20\n",
      "15000/15000 [==============================] - 4s 242us/step - loss: 0.0023 - acc: 0.9998 - val_loss: 0.6931 - val_acc: 0.8696\n",
      "Epoch 17/20\n",
      "15000/15000 [==============================] - 3s 208us/step - loss: 0.0016 - acc: 0.9999 - val_loss: 0.7315 - val_acc: 0.8689\n",
      "Epoch 18/20\n",
      "15000/15000 [==============================] - 3s 221us/step - loss: 0.0317 - acc: 0.9929 - val_loss: 0.7845 - val_acc: 0.8679\n",
      "Epoch 19/20\n",
      "15000/15000 [==============================] - 4s 248us/step - loss: 7.8229e-04 - acc: 0.9999 - val_loss: 0.8011 - val_acc: 0.8681\n",
      "Epoch 20/20\n",
      "15000/15000 [==============================] - 3s 212us/step - loss: 5.9271e-04 - acc: 0.9999 - val_loss: 0.8296 - val_acc: 0.8685\n"
     ]
    }
   ],
   "source": [
    "#experimenting with different ~~LAYERS~~\n",
    "\n",
    "#configure the model for training\n",
    "model_2 = models.Sequential()\n",
    "\n",
    "#add layers-- JUST ONE HIDDEN LAYER\n",
    "model_2.add(layers.Dense(16, activation='relu', input_shape=(10000,)))\n",
    "model_2.add(layers.Dense(16, activation='relu'))\n",
    "model_2.add(layers.Dense(1, activation='sigmoid'))\n",
    "\n",
    "#optimizer,loss function and metrics are strings because they're part of Keras\n",
    "model_2.compile(optimizer='rmsprop',\n",
    "                      loss='binary_crossentropy',\n",
    "                      metrics=['accuracy'])\n",
    "\n",
    "#configurating the optimizer\n",
    "model_2.compile(optimizer=optimizers.RMSprop(lr=0.001),\n",
    "              loss='binary_crossentropy',\n",
    "              metrics=['accuracy'])\n",
    "\n",
    "# validation set\n",
    "x_val = x_train[:10000]\n",
    "partial_x_train = x_train[10000:]\n",
    "\n",
    "y_val = y_train[:10000]\n",
    "partial_y_train = y_train[10000:]\n",
    "\n",
    "model_2.compile(optimizer='rmsprop',\n",
    "              loss='binary_crossentropy',\n",
    "              metrics=['acc'])\n",
    "\n",
    "history_2 = model_2.fit(partial_x_train,\n",
    "                    partial_y_train,\n",
    "                    epochs=20,\n",
    "                    batch_size=512,\n",
    "                    validation_data=(x_val, y_val))"
   ]
  },
  {
   "cell_type": "code",
   "execution_count": 31,
   "metadata": {
    "collapsed": false
   },
   "outputs": [
    {
     "data": {
      "image/png": "[encoded data removed]",
      "text/plain": [
       "<Figure size 600x400 with 1 Axes>"
      ]
     },
     "metadata": {},
     "output_type": "display_data"
    }
   ],
   "source": [
    "history_dict2 = history_2.history\n",
    "loss_values2 = history_2_dict['loss']\n",
    "val_loss_values2 = history_2_dict['val_loss']\n",
    "\n",
    "epochs2 = range(1, len(loss_values2) + 1)\n",
    "\n",
    "plt.plot(epochs2, loss_values2, 'bo', label='Training loss')\n",
    "plt.plot(epochs2, val_loss_values2, 'b', label='Validation loss')\n",
    "plt.title('Training and validation loss')\n",
    "plt.xlabel('Epochs')\n",
    "plt.ylabel('Loss')\n",
    "plt.legend()\n",
    "\n",
    "plt.show()"
   ]
  },
  {
   "cell_type": "code",
   "execution_count": 32,
   "metadata": {
    "collapsed": false
   },
   "outputs": [
    {
     "data": {
      "image/png": "[encoded data removed]",
      "text/plain": [
       "<Figure size 600x400 with 1 Axes>"
      ]
     },
     "metadata": {},
     "output_type": "display_data"
    }
   ],
   "source": [
    "acc_values2 = history_2_dict['acc'] \n",
    "val_acc_values2 = history_2_dict['val_acc']\n",
    "\n",
    "plt.plot(epochs2, acc_values2, 'bo', label='Training acc')\n",
    "plt.plot(epochs2, val_acc_values2, 'b', label='Validation acc')\n",
    "plt.title('Training and validation accuracy')\n",
    "plt.xlabel('Epochs')\n",
    "plt.ylabel('Loss')\n",
    "plt.legend()\n",
    "plt.show()"
   ]
  },
  {
   "cell_type": "code",
   "execution_count": 35,
   "metadata": {
    "collapsed": true
   },
   "outputs": [],
   "source": [
    "def plotter(history):\n",
    "    loss = history.history['loss']\n",
    "    val_loss = history.history['val_loss']\n",
    "\n",
    "    epochs = range(1, len(loss) + 1)\n",
    "\n",
    "    plt.subplot(2,1,1)\n",
    "    plt.plot(epochs, loss, 'bo', label='Training loss')\n",
    "    plt.plot(epochs, val_loss, 'b', label='Validation loss')\n",
    "    plt.ylabel('Loss')\n",
    "\n",
    "    plt.title('Training and validation loss')\n",
    "    plt.legend()\n",
    "\n",
    "    #plotting  training and validation accuracy \n",
    "    acc = history.history['acc']\n",
    "    val_acc = history.history['val_acc']\n",
    "\n",
    "    plt.subplot(2,1,2)\n",
    "\n",
    "    plt.plot(epochs, acc, 'bo', label='Training acc')\n",
    "    plt.plot(epochs, val_acc, 'b', label='Validation acc')\n",
    "    plt.title('Training and validation accuracy')\n",
    "    plt.xlabel(\"Epochs\")\n",
    "    plt.ylabel('Loss')\n",
    "\n",
    "    plt.tight_layout()\n",
    "\n",
    "    plt.legend()\n",
    "    plt.show()"
   ]
  },
  {
   "cell_type": "code",
   "execution_count": 3,
   "metadata": {
    "collapsed": false
   },
   "outputs": [],
   "source": [
    "##reuters data set\n",
    "\n",
    "#only 10,000 most common words\n",
    "(train_data, train_labels), (test_data, test_labels) = reuters.load_data(num_words=10000)\n",
    "\n",
    "word_index = reuters.get_word_index()\n",
    "reverse_word_index = dict([(value, key) for (key, value) in word_index.items()]) \n",
    "decoded_newswire = ' '.join([reverse_word_index.get(i - 3, '?') for i in train_data[0]])\n"
   ]
  },
  {
   "cell_type": "code",
   "execution_count": 5,
   "metadata": {
    "collapsed": false
   },
   "outputs": [],
   "source": [
    "x_train = vectorize_sequences(train_data)\n",
    "x_test =  vectorize_sequences(test_data)"
   ]
  },
  {
   "cell_type": "code",
   "execution_count": 6,
   "metadata": {
    "collapsed": true
   },
   "outputs": [],
   "source": [
    "#One Hot encoding\n",
    "#def to_one_hot(labels, dimension=46):\n",
    "#    results = np.zeros((len(labels), dimension))\n",
    "#    for i, label in enumerate(labels):\n",
    "#        results[i, label] = 1.\n",
    "#    return results\n",
    "\n",
    "#get the labels into One Hot labels, so they are binary and easy to classify\n",
    "#one_hot_train_labels = to_one_hot(train_labels)\n",
    "#one_hot_test_labels = to_one_hot(test_labels)\n",
    "\n",
    "\n",
    "\n",
    "#we could also encode using a built-in way with keras\n",
    "from keras.utils.np_utils import to_categorical\n",
    "\n",
    "one_hot_train_labels = to_categorical(train_labels)\n",
    "one_hot_test_labels = to_categorical(test_labels)"
   ]
  },
  {
   "cell_type": "code",
   "execution_count": 7,
   "metadata": {
    "collapsed": false
   },
   "outputs": [],
   "source": [
    "model = models.Sequential()\n",
    "model.add(layers.Dense(64, activation='relu', input_shape=(10000,)))\n",
    "model.add(layers.Dense(64, activation='relu'))\n",
    "model.add(layers.Dense(46, activation='softmax'))\n",
    "\n",
    "model.compile(optimizer='rmsprop',\n",
    "              loss='categorical_crossentropy',\n",
    "              metrics=['accuracy'])"
   ]
  },
  {
   "cell_type": "code",
   "execution_count": 9,
   "metadata": {
    "collapsed": true
   },
   "outputs": [],
   "source": [
    "#these will be the 1000 samples to use as validation set\n",
    "x_val = x_train[:1000]\n",
    "partial_x_train = x_train[1000:]\n",
    "\n",
    "y_val = one_hot_train_labels[:1000]\n",
    "partial_y_train = one_hot_train_labels[1000:]"
   ]
  },
  {
   "cell_type": "code",
   "execution_count": 10,
   "metadata": {
    "collapsed": false
   },
   "outputs": [
    {
     "name": "stdout",
     "output_type": "stream",
     "text": [
      "Train on 7982 samples, validate on 1000 samples\n",
      "Epoch 1/20\n",
      "7982/7982 [==============================] - 3s 374us/step - loss: 2.5322 - acc: 0.4955 - val_loss: 1.7208 - val_acc: 0.6120\n",
      "Epoch 2/20\n",
      "7982/7982 [==============================] - 2s 231us/step - loss: 1.4452 - acc: 0.6879 - val_loss: 1.3459 - val_acc: 0.7060\n",
      "Epoch 3/20\n",
      "7982/7982 [==============================] - 1s 178us/step - loss: 1.0952 - acc: 0.7652 - val_loss: 1.1707 - val_acc: 0.7430\n",
      "Epoch 4/20\n",
      "7982/7982 [==============================] - 1s 167us/step - loss: 0.8697 - acc: 0.8165 - val_loss: 1.0805 - val_acc: 0.7580\n",
      "Epoch 5/20\n",
      "7982/7982 [==============================] - 2s 195us/step - loss: 0.7032 - acc: 0.8474 - val_loss: 0.9840 - val_acc: 0.7830\n",
      "Epoch 6/20\n",
      "7982/7982 [==============================] - 2s 245us/step - loss: 0.5664 - acc: 0.8802 - val_loss: 0.9412 - val_acc: 0.8040\n",
      "Epoch 7/20\n",
      "7982/7982 [==============================] - 2s 201us/step - loss: 0.4581 - acc: 0.9048 - val_loss: 0.9093 - val_acc: 0.8010\n",
      "Epoch 8/20\n",
      "7982/7982 [==============================] - 2s 199us/step - loss: 0.3696 - acc: 0.9231 - val_loss: 0.9354 - val_acc: 0.7910\n",
      "Epoch 9/20\n",
      "7982/7982 [==============================] - 1s 183us/step - loss: 0.3033 - acc: 0.9307 - val_loss: 0.8916 - val_acc: 0.8090\n",
      "Epoch 10/20\n",
      "7982/7982 [==============================] - 1s 176us/step - loss: 0.2539 - acc: 0.9419 - val_loss: 0.9066 - val_acc: 0.8110\n",
      "Epoch 11/20\n",
      "7982/7982 [==============================] - 1s 172us/step - loss: 0.2189 - acc: 0.9469 - val_loss: 0.9190 - val_acc: 0.8120\n",
      "Epoch 12/20\n",
      "7982/7982 [==============================] - 1s 171us/step - loss: 0.1878 - acc: 0.9506 - val_loss: 0.9028 - val_acc: 0.8140\n",
      "Epoch 13/20\n",
      "7982/7982 [==============================] - 1s 181us/step - loss: 0.1708 - acc: 0.9524 - val_loss: 0.9339 - val_acc: 0.8100\n",
      "Epoch 14/20\n",
      "7982/7982 [==============================] - 2s 307us/step - loss: 0.1536 - acc: 0.9557 - val_loss: 0.9666 - val_acc: 0.8060\n",
      "Epoch 15/20\n",
      "7982/7982 [==============================] - 1s 180us/step - loss: 0.1394 - acc: 0.9558 - val_loss: 0.9697 - val_acc: 0.8140\n",
      "Epoch 16/20\n",
      "7982/7982 [==============================] - 1s 163us/step - loss: 0.1315 - acc: 0.9562 - val_loss: 1.0251 - val_acc: 0.8030\n",
      "Epoch 17/20\n",
      "7982/7982 [==============================] - 1s 182us/step - loss: 0.1222 - acc: 0.9579 - val_loss: 1.0368 - val_acc: 0.7940\n",
      "Epoch 18/20\n",
      "7982/7982 [==============================] - 2s 211us/step - loss: 0.1198 - acc: 0.9579 - val_loss: 1.0453 - val_acc: 0.8070\n",
      "Epoch 19/20\n",
      "7982/7982 [==============================] - 2s 243us/step - loss: 0.1137 - acc: 0.9592 - val_loss: 1.0971 - val_acc: 0.7960\n",
      "Epoch 20/20\n",
      "7982/7982 [==============================] - 2s 280us/step - loss: 0.1114 - acc: 0.9595 - val_loss: 1.0726 - val_acc: 0.8010\n"
     ]
    }
   ],
   "source": [
    "#training the model\n",
    "\n",
    "history = model.fit(partial_x_train,\n",
    "                    partial_y_train,\n",
    "                    epochs=20,\n",
    "                    batch_size=512,\n",
    "                    validation_data=(x_val, y_val))"
   ]
  },
  {
   "cell_type": "code",
   "execution_count": 37,
   "metadata": {
    "collapsed": false
   },
   "outputs": [
    {
     "data": {
      "image/png": "[encoded data removed]",
      "text/plain": [
       "<Figure size 600x400 with 2 Axes>"
      ]
     },
     "metadata": {},
     "output_type": "display_data"
    }
   ],
   "source": [
    "plotter(history)"
   ]
  },
  {
   "cell_type": "code",
   "execution_count": 39,
   "metadata": {
    "collapsed": false
   },
   "outputs": [
    {
     "name": "stdout",
     "output_type": "stream",
     "text": [
      "Train on 7982 samples, validate on 1000 samples\n",
      "Epoch 1/9\n",
      "7982/7982 [==============================] - 3s 412us/step - loss: 2.6136 - acc: 0.4647 - val_loss: 1.7302 - val_acc: 0.6340\n",
      "Epoch 2/9\n",
      "7982/7982 [==============================] - 2s 192us/step - loss: 1.4080 - acc: 0.7081 - val_loss: 1.2760 - val_acc: 0.7310\n",
      "Epoch 3/9\n",
      "7982/7982 [==============================] - 1s 177us/step - loss: 1.0433 - acc: 0.7781 - val_loss: 1.1044 - val_acc: 0.7640\n",
      "Epoch 4/9\n",
      "7982/7982 [==============================] - 2s 189us/step - loss: 0.8191 - acc: 0.8312 - val_loss: 1.0276 - val_acc: 0.7820\n",
      "Epoch 5/9\n",
      "7982/7982 [==============================] - 1s 178us/step - loss: 0.6518 - acc: 0.8626 - val_loss: 0.9518 - val_acc: 0.8060\n",
      "Epoch 6/9\n",
      "7982/7982 [==============================] - 2s 191us/step - loss: 0.5301 - acc: 0.8900 - val_loss: 0.9202 - val_acc: 0.8120\n",
      "Epoch 7/9\n",
      "7982/7982 [==============================] - 1s 181us/step - loss: 0.4209 - acc: 0.9104 - val_loss: 0.9011 - val_acc: 0.8150\n",
      "Epoch 8/9\n",
      "7982/7982 [==============================] - 1s 186us/step - loss: 0.3482 - acc: 0.9261 - val_loss: 0.8907 - val_acc: 0.8160\n",
      "Epoch 9/9\n",
      "7982/7982 [==============================] - 1s 174us/step - loss: 0.2858 - acc: 0.9354 - val_loss: 0.8843 - val_acc: 0.8210\n",
      "2246/2246 [==============================] - 1s 283us/step\n"
     ]
    },
    {
     "data": {
      "text/plain": [
       "['loss', 'acc']"
      ]
     },
     "execution_count": 39,
     "metadata": {},
     "output_type": "execute_result"
    }
   ],
   "source": [
    "#20 epochs results in overfitting after nine\n",
    "#so we try until 9\n",
    "model = models.Sequential()\n",
    "model.add(layers.Dense(64, activation='relu', input_shape=(10000,)))\n",
    "model.add(layers.Dense(64, activation='relu'))\n",
    "model.add(layers.Dense(46, activation='softmax'))\n",
    "\n",
    "model.compile(optimizer='rmsprop',\n",
    "              loss='categorical_crossentropy',\n",
    "              metrics=['accuracy'])\n",
    "\n",
    "model.fit(partial_x_train,\n",
    "          partial_y_train,\n",
    "          epochs=9,\n",
    "          batch_size=512,\n",
    "          validation_data=(x_val, y_val))\n",
    "\n",
    "results = model.evaluate(x_test, one_hot_test_labels)\n",
    "results\n",
    "model.metrics_names"
   ]
  },
  {
   "cell_type": "code",
   "execution_count": 43,
   "metadata": {
    "collapsed": false
   },
   "outputs": [
    {
     "name": "stdout",
     "output_type": "stream",
     "text": [
      "['loss', 'acc']\n",
      "[0.9835918115274458, 0.7871772039711529]\n"
     ]
    }
   ],
   "source": [
    "print(model.metrics_names)\n",
    "print(results)"
   ]
  },
  {
   "cell_type": "code",
   "execution_count": null,
   "metadata": {
    "collapsed": true
   },
   "outputs": [],
   "source": []
  }
 ],
 "metadata": {
  "anaconda-cloud": {},
  "kernelspec": {
   "display_name": "Python [Root]",
   "language": "python",
   "name": "Python [Root]"
  },
  "language_info": {
   "codemirror_mode": {
    "name": "ipython",
    "version": 2
   },
   "file_extension": ".py",
   "mimetype": "text/x-python",
   "name": "python",
   "nbconvert_exporter": "python",
   "pygments_lexer": "ipython2",
   "version": "2.7.12"
  }
 },
 "nbformat": 4,
 "nbformat_minor": 0
}
